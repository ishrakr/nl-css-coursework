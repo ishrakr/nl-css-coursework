{
 "cells": [
  {
   "cell_type": "markdown",
   "metadata": {},
   "source": [
    "# CSS 300 | Spring 2025 | Lab Activity 3"
   ]
  },
  {
   "cell_type": "markdown",
   "metadata": {},
   "source": [
    "*The very first thing you should do: rename this file by replacing \"YOURNAME\" with your actual first name. For this Lab Activity, this is the only file that you should submit!*"
   ]
  },
  {
   "cell_type": "markdown",
   "metadata": {},
   "source": [
    "This Lab Activity comes in two parts, and with two sets of data. We've spent three weeks learning about `pandas`, and you're now well-equipped to explore data and answer questions about them. If you find yourself uncertain about how to do something, you should (in order):\n",
    "\n",
    "- Have a look at the [`pandas` API reference](https://pandas.pydata.org/docs/reference/index.html)\n",
    "- Ask Lucas or a Learning Support Specialist for help\n",
    "\n",
    "*You are reminded that the use of generative AI in CSS 300, in any shape or form, is considered academic dishonesty and will result in a grade of zero (and possibly worse!).*"
   ]
  },
  {
   "cell_type": "code",
   "execution_count": 1,
   "metadata": {},
   "outputs": [],
   "source": [
    "# Don't edit this cell, but please make sure you run it!\n",
    "import pandas as pd"
   ]
  },
  {
   "cell_type": "markdown",
   "metadata": {},
   "source": [
    "## Part One: Ramen Data\n",
    "#### Everybody loves ramen! Included among the files you downloaded for this assignment is a file called `ramen.csv`. You should answer all questions below by writing code that gives the answer as output. Answers without clear, readable `python` code will receive no credit. **Problem 1 has been done for you (together with some data cleaning)!**"
   ]
  },
  {
   "cell_type": "markdown",
   "metadata": {},
   "source": [
    "1) Write code in the cell below that will import the ramen data into a `DataFrame` called `ramen`. Then, run the `.info()` and `.head()` methods to try and get a sense of what information is available to you."
   ]
  },
  {
   "cell_type": "code",
   "execution_count": null,
   "metadata": {},
   "outputs": [],
   "source": [
    "# Problem 1 code goes here (don't edit this code)\n",
    "ramen = pd.read_csv(\"ramen.csv\")\n",
    "# Removes duplicate rows. You can looks this up in the API reference, if you want!\n",
    "ramen.drop_duplicates(keep=False, inplace=True)\n",
    "# This removes all rows with null entries in any of the columns (except the \"Top Ten\" column).\n",
    "ramen.dropna(subset=[\"Review Number\", \"Brand\", \"Variety\", \"Style\", \"Country\", \"Stars\"], inplace=True)\n",
    "# I don't want the last column, so I'm dropping it!\n",
    "ramen.drop(labels=\"Top Ten\", axis='columns', inplace=True)\n",
    "ramen.info()\n",
    "ramen.head()"
   ]
  },
  {
   "cell_type": "markdown",
   "metadata": {},
   "source": [
    "2. It turns out that each row of the `DataFrame` called `ramen` is a review collected from a ramen review website. What are the top ten countries by *number of reviews*? *(Your code should output a sorted `Series` which is indexed by country and which is sorted in descending order of number of reviews for each country.)*"
   ]
  },
  {
   "cell_type": "code",
   "execution_count": null,
   "metadata": {},
   "outputs": [],
   "source": [
    "ramen['Country'].value_counts().head(10)\n"
   ]
  },
  {
   "cell_type": "markdown",
   "metadata": {},
   "source": [
    "3. Remove all rows which have an entry of `'Unrated'`in the `\"Stars\"` column. Then, use the `.astype()` method (see [here](https://pandas.pydata.org/docs/reference/api/pandas.DataFrame.astype.html)) to change the type of the column `\"Stars\"` from `object` to `float64`."
   ]
  },
  {
   "cell_type": "code",
   "execution_count": null,
   "metadata": {},
   "outputs": [],
   "source": [
    "ramen = ramen[ramen['Stars'] != 'Unrated']\n",
    "ramen['Stars'] = ramen['Stars'].astype('float64')\n",
    "ramen.info()"
   ]
  },
  {
   "cell_type": "markdown",
   "metadata": {},
   "source": [
    "4. What percentage of all reviews are greater than or equal to 4? *You should round your output to two decimal places. Note also that you will need to have completed Problem 3 to complete this problem.*"
   ]
  },
  {
   "cell_type": "code",
   "execution_count": null,
   "metadata": {},
   "outputs": [],
   "source": [
    "good_reviews = len(ramen[ramen['Stars'] >= 4.00])\n",
    "total_reviews = len(ramen)\n",
    "good_reviews_percentage = (good_reviews / total_reviews) * 100\n",
    "good_reviews_percentage_rounded = round(good_reviews_percentage, 2)\n",
    "print(\"Percentage of reviews greater or equal to 4:\", good_reviews_percentage_rounded,\"%\")"
   ]
  },
  {
   "cell_type": "markdown",
   "metadata": {},
   "source": [
    "## Part Two: Salary Data"
   ]
  },
  {
   "cell_type": "code",
   "execution_count": null,
   "metadata": {},
   "outputs": [],
   "source": [
    "salaries = pd.read_csv(\"salaries.csv\")\n",
    "salaries.info()"
   ]
  },
  {
   "cell_type": "markdown",
   "metadata": {},
   "source": [
    "#### Here's some salary data -- every row represents an employee at a particular company. Answer the following questions!"
   ]
  },
  {
   "cell_type": "markdown",
   "metadata": {},
   "source": [
    "1. What is the average `BasePay`?"
   ]
  },
  {
   "cell_type": "code",
   "execution_count": null,
   "metadata": {},
   "outputs": [],
   "source": [
    "salary_mean = salaries['BasePay'].mean()\n",
    "print(\"Average Base Pay Salary:\", round(salary_mean, 2), \"$\")"
   ]
  },
  {
   "cell_type": "markdown",
   "metadata": {},
   "source": [
    "2. What is the highest amount of `OvertimePay`?"
   ]
  },
  {
   "cell_type": "code",
   "execution_count": null,
   "metadata": {},
   "outputs": [],
   "source": [
    "overtime_max = salaries['OvertimePay'].max()\n",
    "print(\"Highest Overtime Pay:\", round(overtime_max, 2), \"$\")"
   ]
  },
  {
   "cell_type": "markdown",
   "metadata": {},
   "source": [
    "3. What is the total pay (with benefits) of Joseph Driscoll **in 2012**? *(Be careful! There are two entries for this person — I suggest selecting via `.str.lower()`!)*"
   ]
  },
  {
   "cell_type": "code",
   "execution_count": null,
   "metadata": {},
   "outputs": [],
   "source": [
    "salaries[(salaries[\"EmployeeName\"] == \"Joseph Driscoll\") & (salaries[\"Year\"] == 2012)][\"TotalPayBenefits\"]\n"
   ]
  },
  {
   "cell_type": "markdown",
   "metadata": {},
   "source": [
    "4. What is the name of highest-paid person (including benefits)?"
   ]
  },
  {
   "cell_type": "code",
   "execution_count": null,
   "metadata": {},
   "outputs": [],
   "source": [
    "salaries.sort_values(by='TotalPayBenefits', ascending=False).head(1)"
   ]
  },
  {
   "cell_type": "markdown",
   "metadata": {},
   "source": [
    "5. What was the average (mean) BasePay of *all* employees per year (2011--2014)? *(Your output should be a `Series` (indexed by year) with four rows -- one for each of the four years.)"
   ]
  },
  {
   "cell_type": "code",
   "execution_count": null,
   "metadata": {},
   "outputs": [],
   "source": [
    "salaries[[\"Year\", \"BasePay\"]].groupby(\"Year\").mean()"
   ]
  },
  {
   "cell_type": "markdown",
   "metadata": {},
   "source": [
    "6. How many people have the word `\"Chief\"` in their job title?"
   ]
  },
  {
   "cell_type": "code",
   "execution_count": null,
   "metadata": {},
   "outputs": [],
   "source": [
    "title_contains_chief = salaries[(salaries['JobTitle'].str.contains('Chief')) | (salaries['JobTitle'].str.contains('CHIEF'))]\n",
    "len(title_contains_chief)"
   ]
  }
 ],
 "metadata": {
  "kernelspec": {
   "display_name": ".venv",
   "language": "python",
   "name": "python3"
  },
  "language_info": {
   "codemirror_mode": {
    "name": "ipython",
    "version": 3
   },
   "file_extension": ".py",
   "mimetype": "text/x-python",
   "name": "python",
   "nbconvert_exporter": "python",
   "pygments_lexer": "ipython3",
   "version": "3.11.2"
  }
 },
 "nbformat": 4,
 "nbformat_minor": 4
}
