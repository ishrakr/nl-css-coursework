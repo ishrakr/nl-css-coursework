{
 "cells": [
  {
   "cell_type": "markdown",
   "metadata": {},
   "source": [
    "# CSS 300 | Spring 2025 | Lab Activity 1"
   ]
  },
  {
   "cell_type": "markdown",
   "metadata": {},
   "source": [
    "*The very first thing you should do: rename this file by replacing \"YOURNAME\" with your actual first name.*"
   ]
  },
  {
   "cell_type": "code",
   "execution_count": null,
   "metadata": {},
   "outputs": [],
   "source": [
    "# Don't touch this cell -- it is where we will import important libraries (just pandas, for now).\n",
    "import pandas as pd"
   ]
  },
  {
   "cell_type": "markdown",
   "metadata": {},
   "source": [
    "## Part One\n",
    "First things first: you should [download and install the Anaconda distribution](https://www.anaconda.com/download/success). You should show Lucas that this is working on your computer once this is done, or show him that you have an alternative environment that can run Jupyter notebooks (to his satisfaction).\n",
    "\n",
    "Once this is all complete, type in \"I have downloaded and installed the Anaconda distribution successfully!\" in the empty cell below."
   ]
  },
  {
   "cell_type": "markdown",
   "metadata": {},
   "source": [
    "I am using VS Code for my Jupyter notebook projects"
   ]
  },
  {
   "cell_type": "markdown",
   "metadata": {},
   "source": [
    "## Part Two\n",
    "We won't do too much for this first lab assignment — the main goal is to make sure everything is set up and working for the quarter. In this part of the lab activity, I'd like everyone to make sure that they understand how to grab data from a `.csv` file as a `pandas` DataFrame."
   ]
  },
  {
   "cell_type": "markdown",
   "metadata": {},
   "source": [
    "### Question 1\n",
    "In the cell below, import the first 30 rows of the `elections` dataset by running the following code:\n",
    "```\n",
    "elections = pd.read_csv(\"elections.csv\")\n",
    "elections.head(30)\n",
    "```"
   ]
  },
  {
   "cell_type": "code",
   "execution_count": null,
   "metadata": {},
   "outputs": [],
   "source": [
    "elections = pd.read_csv(\"elections.csv\")\n",
    "elections.head(30)"
   ]
  },
  {
   "cell_type": "markdown",
   "metadata": {},
   "source": [
    "### Question 2\n",
    "Run the code `elections.info()` in the cell below."
   ]
  },
  {
   "cell_type": "code",
   "execution_count": null,
   "metadata": {},
   "outputs": [],
   "source": [
    "elections.info()"
   ]
  },
  {
   "cell_type": "markdown",
   "metadata": {},
   "source": [
    "Now, double-click the cell below, and write down some observations about this DataFrame — how many columns and rows are there? What is the data type of each of the columns? Are there any other observations that you see?"
   ]
  },
  {
   "cell_type": "markdown",
   "metadata": {},
   "source": [
    "There are 4 columns with 6 rows of data. The first column is an index. The second column shows what data is represented. The third column is a count of valid data and the fourth column shows which type of data is present."
   ]
  }
 ],
 "metadata": {
  "kernelspec": {
   "display_name": "base",
   "language": "python",
   "name": "python3"
  },
  "language_info": {
   "codemirror_mode": {
    "name": "ipython",
    "version": 3
   },
   "file_extension": ".py",
   "mimetype": "text/x-python",
   "name": "python",
   "nbconvert_exporter": "python",
   "pygments_lexer": "ipython3",
   "version": "3.12.7"
  }
 },
 "nbformat": 4,
 "nbformat_minor": 4
}
