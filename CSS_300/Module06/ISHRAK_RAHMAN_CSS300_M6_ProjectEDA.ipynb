{
 "cells": [
  {
   "cell_type": "markdown",
   "metadata": {
    "editable": false,
    "slideshow": {
     "slide_type": ""
    },
    "tags": []
   },
   "source": [
    "# CSS 300 | Spring 2025 | Module 6 | Project Exploratory Analysis\n",
    "<hr style=\"border: 5px solid #0072CE;\" />"
   ]
  },
  {
   "cell_type": "markdown",
   "metadata": {
    "editable": false,
    "slideshow": {
     "slide_type": ""
    },
    "tags": []
   },
   "source": [
    "##### *The very first thing you should do: rename this file by replacing \"YOURNAME\" with your actual first name. For this assignment, you should submit all the files that are required for your Jupyter notebook to run properly. For example, if you are using `pandas.read_csv()` to create your `DataFrame`, then you should include the (for example) `.csv` file in your submission.*\n",
    "\n",
    "#### Bottom line: make sure that I can run all cells in your Jupyter notebook without errors occurring!"
   ]
  },
  {
   "cell_type": "markdown",
   "metadata": {
    "editable": false,
    "slideshow": {
     "slide_type": ""
    },
    "tags": []
   },
   "source": [
    "If you find yourself uncertain about how to do something, you should (in order):\n",
    "\n",
    "- Have a look at the [`pandas` API reference](https://pandas.pydata.org/docs/reference/index.html)\n",
    "- Consider also the [`Mathplotlib`](https://matplotlib.org/stable/api/index.html) and [`Seaborn`](https://seaborn.pydata.org/api.html) API references\n",
    "- Ask Lucas or a Learning Support Specialist for help\n",
    "\n",
    "*You are reminded that the use of generative AI in CSS 300, in any shape or form, is considered academic dishonesty and will result in a grade of zero (and possibly worse!).*"
   ]
  },
  {
   "cell_type": "markdown",
   "metadata": {
    "editable": false,
    "slideshow": {
     "slide_type": ""
    },
    "tags": []
   },
   "source": [
    "### Imports go here (feel free to import more libraries if needed). Don't forget to import your dataset as a `pandas` `DataFrame` too!"
   ]
  },
  {
   "cell_type": "code",
   "execution_count": null,
   "metadata": {
    "editable": true,
    "slideshow": {
     "slide_type": ""
    },
    "tags": []
   },
   "outputs": [],
   "source": [
    "import pandas as pd\n",
    "import matplotlib.pyplot as plt\n",
    "import seaborn as sns\n",
    "\n",
    "data = pd.read_csv(\"https://objects.ishrak.xyz/public/btcusd_1-min_data.csv\")\n",
    "data.head(10)"
   ]
  },
  {
   "cell_type": "markdown",
   "metadata": {
    "editable": false,
    "slideshow": {
     "slide_type": ""
    },
    "tags": []
   },
   "source": [
    "# Part One — Data Cleaning"
   ]
  },
  {
   "cell_type": "markdown",
   "metadata": {
    "editable": false,
    "slideshow": {
     "slide_type": ""
    },
    "tags": []
   },
   "source": [
    "Your dataset might be messy! Referring back to the Data Cleaning/EDA content from Weeks 4 and 5, **write code below to clean up your dataset**. This may include:\n",
    "- Getting rid of *fully* repeated columns/rows (unless they add value to your data somehow)\n",
    "- Getting rid of *constant* columns (unless they add value to your data somehow)\n",
    "- Deciding what to do with null values (keep them? Remove rows with null values? What makes sense for your situation?)\n",
    "- Handling spelling/formatting issues\n",
    "- ... something else!\n",
    "\n",
    "#### 1a) In the cell directly below, write code to clean up your data!"
   ]
  },
  {
   "cell_type": "code",
   "execution_count": null,
   "metadata": {},
   "outputs": [],
   "source": [
    "data['Timestamp'] = pd.to_datetime(data[\"Timestamp\"],unit=\"s\")\n",
    "data.head(10)"
   ]
  },
  {
   "cell_type": "markdown",
   "metadata": {
    "editable": false,
    "slideshow": {
     "slide_type": ""
    },
    "tags": []
   },
   "source": [
    "#### 1b) In the cell directly below, write a few paragraphs detailing what you did in your code above. You might also wish to justify a decision you made *not* to do something."
   ]
  },
  {
   "cell_type": "raw",
   "metadata": {
    "vscode": {
     "languageId": "raw"
    }
   },
   "source": [
    "The dataset stores the timestamp of each row as UNIX time stored in seconds. Since this makes it difficult to read, \n",
    "I used pandas to_datetime function to change the timestamp row from unix to a human readable format."
   ]
  },
  {
   "cell_type": "markdown",
   "metadata": {},
   "source": [
    "-------"
   ]
  },
  {
   "cell_type": "markdown",
   "metadata": {
    "editable": false,
    "slideshow": {
     "slide_type": ""
    },
    "tags": []
   },
   "source": [
    "# Part Two — Exploratory Data Analysis"
   ]
  },
  {
   "cell_type": "markdown",
   "metadata": {
    "editable": false,
    "slideshow": {
     "slide_type": ""
    },
    "tags": []
   },
   "source": [
    "In Weeks 3 and 4 of class, we spent some time with a couple of datasets, asked questions of the data, and tried our best to answer them.\n",
    "\n",
    "In Week 3, we worked with the `babynames` dataset and asked, \"Which baby name fell the most in popularity in Illinois from 1910 -- 2022?\" In the end, the answer was \"Linda\", and we found this out by developing a metric called *ratio-to-peak*, then finding the name which had the *lowest* ratio-to-peak.\n",
    "\n",
    "In Week 4, we worked with two datasets -- one involving state-level data from the CDC, and one involving state-level population data from the United States census. We \"asked\" the question: \"What were the tubercolosis incidence rates (per 100,000) people in the U.S. in the years 2019, 2020, and 2021?\" In reality, the CDC already had these statistics on their websites, but we were able to successfully reproduce them."
   ]
  },
  {
   "cell_type": "markdown",
   "metadata": {
    "editable": false,
    "slideshow": {
     "slide_type": ""
    },
    "tags": []
   },
   "source": [
    "Now, it's your turn to ask a question of your dataset. This shouldn't be a difficult, existential question. Rather, it should be a question that you believe your data can answer. For example:\n",
    "- \"Which group of _____ experienced the most ______?\"\n",
    "- \"Which group had the highest levels of _____ from the years _____ to _____?\n",
    "\n",
    "*The above are just examples. This assignment is very open-ended. As long as your question is interesting and not too difficult to answer with your data, you're doing great! Think about what is interesting to you.*\n",
    "\n",
    "#### 2a) In the cell directly below, write down a single question that you can answer with the data!"
   ]
  },
  {
   "cell_type": "markdown",
   "metadata": {},
   "source": [
    "In which month of which year did the price of bitcoin experience the highest increase in price?"
   ]
  },
  {
   "cell_type": "markdown",
   "metadata": {
    "editable": false,
    "slideshow": {
     "slide_type": ""
    },
    "tags": []
   },
   "source": [
    "#### 2b) In the cell directly below, write code that will answer the question you asked in 2(a)."
   ]
  },
  {
   "cell_type": "code",
   "execution_count": null,
   "metadata": {},
   "outputs": [],
   "source": [
    "data['Month'] = data[\"Timestamp\"].dt.month\n",
    "data['Year'] = data[\"Timestamp\"].dt.year\n",
    "\n",
    "grouped_by_year_and_month = data.groupby(['Year', 'Month'])\n",
    "\n",
    "start_of_month = grouped_by_year_and_month['Close'].first()\n",
    "end_of_month = grouped_by_year_and_month['Close'].last()\n",
    "percentage_change = ((end_of_month - start_of_month ) / start_of_month) * 100\n",
    "\n",
    "result = pd.DataFrame({\n",
    "        'First Day': start_of_month,\n",
    "        'Last Day': end_of_month,\n",
    "        'Change': percentage_change\n",
    "})\n",
    "\n",
    "result_sorted_by_change = result.sort_values('Change', ascending=False)\n",
    "\n",
    "result_sorted_by_change.head(10)"
   ]
  },
  {
   "cell_type": "markdown",
   "metadata": {
    "editable": false,
    "slideshow": {
     "slide_type": ""
    },
    "tags": []
   },
   "source": [
    "#### 2c) In the cell directly below, write a few paragraphs detailing what you did in your code above, and comment on the answer to your question."
   ]
  },
  {
   "cell_type": "markdown",
   "metadata": {},
   "source": [
    "Firstly, the months and years are taken using the dt.month and dt.year function respectively and stored in new columns \n",
    "in the data dataframe. Afterwards, \"grouped_by_year_and_month\" is created where the years and months are grouped together. \n",
    "\n",
    "Using this dataframe, the start_of_month and the end_of_month is set using the .first() and the .last() dataframe function of the \"Close\" column. This gives us the closing price at the start and end of each group which is each month of each year. The percentage_change is also set using the the percentage change formula and using the start_of_month and the end_of_month price found earlier. \n",
    "\n",
    "This result is displayed in a result dataframe with columns \"First Day\", \"Last Day\" and \"Change\". Lastly, another result_sorted_by_change dataframe is created where the values of change are sorted in descending order allowing us to find the highest percentage change. \n",
    "\n",
    "From the result above, we can see that the best performing month of Bitcoin was in 2013 of November where the price closed on the first day at 203.70$. At the end of the month, it closed at 1110.09$ which is a 444.96% rise in price. "
   ]
  },
  {
   "cell_type": "markdown",
   "metadata": {},
   "source": [
    "------"
   ]
  },
  {
   "cell_type": "markdown",
   "metadata": {
    "editable": false,
    "slideshow": {
     "slide_type": ""
    },
    "tags": []
   },
   "source": [
    "# Part Three — Data Visualization"
   ]
  },
  {
   "cell_type": "markdown",
   "metadata": {
    "editable": false,
    "slideshow": {
     "slide_type": ""
    },
    "tags": []
   },
   "source": [
    "Using any of three libraries (`pandas`, `Mathplotlib`, or `Seaborn`) we discussed in class, make a data visualization that demonstrates the answer you found to your question in Part Two above. Your visualization need not be fancy; it should just relate to your findings in Part Two.\n",
    "\n",
    "#### 3a) In the cell directly below, create a data visualization (either with `pandas`, `Mathplotlib`, or `Seaborn`) that relates to your question/answer in Part Two. Make sure that your viz has a descriptive title, and descriptive axis labels!"
   ]
  },
  {
   "cell_type": "code",
   "execution_count": null,
   "metadata": {},
   "outputs": [],
   "source": [
    "sns.barplot(data=result, x=\"Year\", y=\"Change\", hue=\"Month\", native_scale=True, palette = \"Paired\")\n",
    "\n",
    "plt.title('Monthly Change in BTC Price')\n",
    "plt.xlabel('Year')\n",
    "plt.ylabel('Change in Price (%)')\n",
    "\n",
    "plt.show()"
   ]
  },
  {
   "cell_type": "markdown",
   "metadata": {
    "editable": false,
    "slideshow": {
     "slide_type": ""
    },
    "tags": []
   },
   "source": [
    "#### 3b) In the cell directly below, write a few paragraphs detailing what you did in your code above."
   ]
  },
  {
   "cell_type": "markdown",
   "metadata": {},
   "source": [
    "In the code above, I used seaborn to create a bar plot with result dataframe that I created earlier. In \n",
    "the barplot, I set the y axis to be the change in percentage and the X axis to be the months in each year of the data. Since there are multiple months of each year, I used the seaborn hue parameter to set a color of each month so it is easily distinguishable from the other years. I also set native_scale to true to prevent all years to be displayed which clutters the graph. "
   ]
  },
  {
   "cell_type": "markdown",
   "metadata": {
    "editable": false,
    "slideshow": {
     "slide_type": ""
    },
    "tags": []
   },
   "source": [
    "<hr style=\"border: 5px solid #0072CE;\" />\n",
    "\n",
    "# Woohoo! You're all done."
   ]
  }
 ],
 "metadata": {
  "kernelspec": {
   "display_name": ".venv",
   "language": "python",
   "name": "python3"
  },
  "language_info": {
   "codemirror_mode": {
    "name": "ipython",
    "version": 3
   },
   "file_extension": ".py",
   "mimetype": "text/x-python",
   "name": "python",
   "nbconvert_exporter": "python",
   "pygments_lexer": "ipython3",
   "version": "3.11.2"
  }
 },
 "nbformat": 4,
 "nbformat_minor": 4
}
